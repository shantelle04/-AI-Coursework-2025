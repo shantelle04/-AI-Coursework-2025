{
 "cells": [
  {
   "cell_type": "code",
   "execution_count": 1,
   "id": "5bd0d6cd",
   "metadata": {},
   "outputs": [
    {
     "name": "stdout",
     "output_type": "stream",
     "text": [
      "Notebook is working 🎉\n"
     ]
    }
   ],
   "source": [
    "print(\"Notebook is working 🎉\")\n"
   ]
  },
  {
   "cell_type": "code",
   "execution_count": null,
   "id": "bccdb8b1",
   "metadata": {},
   "outputs": [],
   "source": [
    "# Enter number of days\n",
    "days = int (input (\"Enter the number of days: \"))\n",
    "\n",
    "# Calculate the number if seconds\n",
    "seconds = days * 24 * 60 * 60\n",
    "\n",
    "# Print the results\n",
    "print (\"The number of days are: \", days, \"and the number of seconds are:\", seconds)"
   ]
  },
  {
   "cell_type": "code",
   "execution_count": null,
   "id": "891b5941",
   "metadata": {},
   "outputs": [],
   "source": [
    "import math\n",
    "\n",
    "# Enter the radius\n",
    "radius = float (input (\"Enter the raidus pf the sphere: \"))\n",
    "\n",
    "# Calculate the volume \n",
    "volume = (4/3) * math.pi * (radius ** 3)\n",
    "\n",
    "# Print the result\n",
    "print (\"The radius is: \", radius, \" and the volume of the sphere is: \", volume)"
   ]
  },
  {
   "cell_type": "code",
   "execution_count": null,
   "id": "bacddddf",
   "metadata": {},
   "outputs": [],
   "source": [
    "# Formula for area \n",
    "def area (side):\n",
    "    return side ** 2\n",
    "\n",
    "# Formula for perimeter\n",
    "def perimeter (side):\n",
    "    return side * 4\n",
    "\n",
    "# Enter the length of one side\n",
    "side = float (input (\"Enter the length of one side of the square: \"))\n",
    "\n",
    "# Print the results\n",
    "print (\"The area of the square is: \", area (side))\n",
    "print (\"The perimeter of the square is:\", perimeter (side))"
   ]
  },
  {
   "cell_type": "code",
   "execution_count": null,
   "id": "9c19ffd8",
   "metadata": {},
   "outputs": [],
   "source": [
    "# Is it uppercase or lowercase?\n",
    "def check_case (char):\n",
    "    if char.isupper():\n",
    "        return \"Uppercase\"\n",
    "    elif char.islower():\n",
    "        return \"Lowercase\"\n",
    "    else:\n",
    "        return \"The value you have provided is not a letter.\"\n",
    "\n",
    "# Enter a character\n",
    "char = input (\"Enter a character: \")\n",
    "\n",
    "# Print the result\n",
    "print (\"The character\", char, \"is: \", check_case(char))"
   ]
  },
  {
   "cell_type": "code",
   "execution_count": null,
   "id": "06ef50c0",
   "metadata": {},
   "outputs": [],
   "source": [
    "# Initialize variables\n",
    "x = 0\n",
    "y = 20\n",
    "\n",
    "# Repeat until y < 6\n",
    "while y >= 6:\n",
    "    # Subtract 4 from y\n",
    "    y = y - 4\n",
    "    #Add 2 / y to x\n",
    "    x = x + (2 / y)\n",
    "\n",
    "# Print the value of x\n",
    "print (\"The final value of x is: \", x)"
   ]
  },
  {
   "cell_type": "code",
   "execution_count": null,
   "id": "0e4f0185",
   "metadata": {},
   "outputs": [],
   "source": [
    "# Create an empty array list\n",
    "values = []\n",
    "\n",
    "# Loop to enter 5 values\n",
    "for i in range (5):\n",
    "    val = float (input (\"Enter a value:\"))\n",
    "    values.append (val)\n",
    "\n",
    "# Calculate theaverage\n",
    "average = sum (values) / len (values)\n",
    "\n",
    "# Print the result\n",
    "print (\"The values entered are: \", values)\n",
    "print (\"The average value is: \", average)"
   ]
  }
 ],
 "metadata": {
  "kernelspec": {
   "display_name": "Python 3",
   "language": "python",
   "name": "python3"
  },
  "language_info": {
   "codemirror_mode": {
    "name": "ipython",
    "version": 3
   },
   "file_extension": ".py",
   "mimetype": "text/x-python",
   "name": "python",
   "nbconvert_exporter": "python",
   "pygments_lexer": "ipython3",
   "version": "3.13.7"
  }
 },
 "nbformat": 4,
 "nbformat_minor": 5
}
